{
 "cells": [
  {
   "cell_type": "markdown",
   "id": "1a068113-4257-4a41-b7ef-2db563d29fa1",
   "metadata": {},
   "source": [
    "Homework 1, Dominik Allen, Student ID: 232487"
   ]
  },
  {
   "cell_type": "markdown",
   "id": "df3d3cdf-3c00-4d16-86fb-c29a062acfcf",
   "metadata": {},
   "source": [
    "1. One application where a regression would be useful,  is a program that predicts how much of a stores inventory of a specific item is to be sold each day. The feature variables involved could be things such as amount item sold yesterday, median salary within the area surrounding the store, average number of customers per day of the week and more. The task would be to predict the number of that specific item sold based on the features available. The performance measure would be the accuracy of how well it predicted the amount of that item sold based on the root means squared error. And the experience would be historical data and adding additional data each day to the training set that has updated features and labels for the current day.\n",
    "\n",
    "\n",
    "Another application of regression being useful would be predicting how many touchdowns a football team will score in a game based on features such as scores during historical matches with that team, the teams current wins vs losses, the amount of runs vs passes executed, etc. The task would be to predict the number of touchdowns that will be scored in a game, the performance would be the root sqruared error of how many were predicted to be scored vs how many actually were, and the experience would be historical data with the before mentioned features."
   ]
  },
  {
   "cell_type": "markdown",
   "id": "3449156c-eeea-41a5-aff9-66dc28719081",
   "metadata": {},
   "source": [
    "2. An application of where a classification would be useful is a conveyor belt system at a grocery store like walmart that separates items to get distributed to different departments of the store such as groceries, electronics, sports equipment, cleaning. The features would be things like item weight, item size, item price, item temperature while the labels would be the before mentioned departments (groceries, electronics, etc). The task would be to accurately identify which category the item belongs to. The performance would be measured by accuracy through its error rate. The experience would be a dataset of items already distributed along with their labels.\n",
    "\n",
    "Another application of classification could be a check in system at a hospital that prints tickets and directs people to the correct part of th hospital. The task would be to (based on numerous features such as different types of symptoms, age, whether the patient is amublatory, pain scale, etc) send patients to the correct department to be seen by a healthcare provider and the label would be whether they arrived to the correct department or not. The performance would be measured by accuracy through an error rate and the experience would be a dataset of patient records with the afore mentioned features and corresponding labels indicating whether the patient got to the correct department."
   ]
  },
  {
   "cell_type": "markdown",
   "id": "4f907b3e-80b1-4f0c-88cc-912521c88790",
   "metadata": {},
   "source": [
    "3. One application of cluster analysis could be establishing polling data for a political marketing campaign. A task could be to cluster people that are potential voters for your party into specific groups in order to devise a marketing strategy to try and win them on the next election. The people would be clustered into different groups based on location, income, level of education, age, and many other features. Performance would be measured by how tight the clusters are through the Davies-Bouldin index. Experience would be through previous voting preference datasets.\n",
    "\n",
    "Another application for cluster analysis could be a business clustering customers to make a marketing campaign. The task would be to group customers into clusters based on the features of purchasing behavior, demographics, and preferences to tailor marketing strategies. Perfomance could also be measured by the compactness of the cluster through the Davies-Bouldin index and the experience would be previous datasets of customer transactions, demographics, and different metrics for engagement."
   ]
  },
  {
   "cell_type": "markdown",
   "id": "28867418-dc57-42ce-ad71-67e1ae506887",
   "metadata": {},
   "source": [
    "4. One application that would meet this requiremnt of being AI but not considered machine learning would be a banks automated calling system that directs customers to the correct department based on the answer provided by the customer such as \"would you like to wihdraw funds\", \"would you like to set up an account\", \"would you like to speak to a human\", etc. These could be manually programed by a human to go to the next step based on the callers response. It wouldnt necessarily be machine learning if there was no training data fed in for the system to learn from vs a human manually installing a logic tree to go to the next branch."
   ]
  },
  {
   "cell_type": "code",
   "execution_count": null,
   "id": "87bed93e-d9df-4c6d-b344-b12893f72f17",
   "metadata": {},
   "outputs": [],
   "source": []
  }
 ],
 "metadata": {
  "kernelspec": {
   "display_name": "Python 3 (ipykernel)",
   "language": "python",
   "name": "python3"
  },
  "language_info": {
   "codemirror_mode": {
    "name": "ipython",
    "version": 3
   },
   "file_extension": ".py",
   "mimetype": "text/x-python",
   "name": "python",
   "nbconvert_exporter": "python",
   "pygments_lexer": "ipython3",
   "version": "3.11.11"
  }
 },
 "nbformat": 4,
 "nbformat_minor": 5
}
