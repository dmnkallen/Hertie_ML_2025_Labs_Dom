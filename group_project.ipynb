{
 "cells": [
  {
   "cell_type": "code",
   "execution_count": 3,
   "metadata": {},
   "outputs": [
    {
     "name": "stdout",
     "output_type": "stream",
     "text": [
      "Student(232487, Dominik Allen, Public Policy, Year 2)\n"
     ]
    }
   ],
   "source": [
    "class Student:\n",
    "    def __init__(self, student_id: int, name: str, major: str, year: int):\n",
    "        \"\"\"\n",
    "        Initialize a Student object.\n",
    "\n",
    "        :param student_id: Student ID\n",
    "        :param name: Student name\n",
    "        :param major: Major (MDS, MPP, MIA, or EMPA)\n",
    "        :param year: Academic year (1st or 2nd year)\n",
    "        \"\"\"\n",
    "        self.student_id = student_id\n",
    "        self.name = name\n",
    "        self.major = major\n",
    "        self.year = year\n",
    "        self.preferences = []  # List to store preferred courses\n",
    "        self.assigned_courses = []  # List to store assigned courses\n",
    "\n",
    "    def __str__(self):\n",
    "        \"\"\"\n",
    "        String representation of the Student object.\n",
    "        \"\"\"\n",
    "        return f\"Student({self.student_id}, {self.name}, {self.major}, Year {self.year})\"\n",
    "\n",
    "# Example:\n",
    "Dominik = Student(232487, \"Dominik Allen\", \"Public Policy\", 2)\n",
    "\n",
    "print(Dominik)\n"
   ]
  }
 ],
 "metadata": {
  "kernelspec": {
   "display_name": "ml2025",
   "language": "python",
   "name": "python3"
  },
  "language_info": {
   "codemirror_mode": {
    "name": "ipython",
    "version": 3
   },
   "file_extension": ".py",
   "mimetype": "text/x-python",
   "name": "python",
   "nbconvert_exporter": "python",
   "pygments_lexer": "ipython3",
   "version": "3.11.11"
  }
 },
 "nbformat": 4,
 "nbformat_minor": 2
}
